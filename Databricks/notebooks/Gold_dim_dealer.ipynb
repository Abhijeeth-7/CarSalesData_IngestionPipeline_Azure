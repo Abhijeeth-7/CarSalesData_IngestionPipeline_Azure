{
 "cells": [
  {
   "cell_type": "markdown",
   "metadata": {
    "application/vnd.databricks.v1+cell": {
     "cellMetadata": {
      "byteLimit": 2048000,
      "rowLimit": 10000
     },
     "inputWidgets": {},
     "nuid": "6582f545-4fd6-4ea4-82a0-4f294cab53c7",
     "showTitle": false,
     "tableResultSettingsMap": {},
     "title": ""
    }
   },
   "source": [
    "## Fetching new data from silver layer"
   ]
  },
  {
   "cell_type": "code",
   "execution_count": 0,
   "metadata": {
    "application/vnd.databricks.v1+cell": {
     "cellMetadata": {
      "byteLimit": 2048000,
      "rowLimit": 10000
     },
     "inputWidgets": {},
     "nuid": "d7d0cfd1-0dfd-49a2-bc22-859eb326fb21",
     "showTitle": false,
     "tableResultSettingsMap": {},
     "title": ""
    }
   },
   "outputs": [],
   "source": [
    "from pyspark.sql.functions import *  \n",
    "from pyspark.sql.types import *\n",
    "from delta.tables import DeltaTable\n",
    "\n",
    "gold_table_name = \"carsales_catalog.gold.dealer_dimension\"\n",
    "gold_table_schema = StructType([\n",
    "    StructField(\"dim_dealer_key\", LongType(), True),\n",
    "    StructField(\"DealerId\", StringType(), False),\n",
    "    StructField(\"DealerName\", StringType(), False)\n",
    "])\n",
    "\n",
    "is_incremental = dbutils.widgets.get(\"is_incremental\").lower() == \"true\"\n",
    "filter_condition = True\n",
    "if is_incremental and spark.catalog.tableExists(gold_table_name):\n",
    "    last_load_on_gold = spark.sql(f\"DESCRIBE HISTORY {gold_table_name}\")\\\n",
    "                                .select(max(\"timestamp\")).collect()[0][0]\n",
    "    filter_condition = col(\"silver_load_timestamp\") > last_load_on_gold\n",
    "    \n",
    "path = \"abfss://silver@carsalesdatalake04ajaz.dfs.core.windows.net/transformed_data\"\n",
    "silver_df = spark.read.format(\"delta\").load(path).filter(filter_condition)\n",
    "\n",
    "dim_src_df = silver_df.select(\"DealerId\", \"DealerName\").distinct()\n",
    "dim_src_df.head(5) \n"
   ]
  },
  {
   "cell_type": "markdown",
   "metadata": {
    "application/vnd.databricks.v1+cell": {
     "cellMetadata": {
      "byteLimit": 2048000,
      "rowLimit": 10000
     },
     "inputWidgets": {},
     "nuid": "dba3d15c-62cc-4a78-b6f4-22c1223d8805",
     "showTitle": false,
     "tableResultSettingsMap": {},
     "title": ""
    }
   },
   "source": [
    "## Creating Surrogate key for new records after segregation"
   ]
  },
  {
   "cell_type": "markdown",
   "metadata": {
    "application/vnd.databricks.v1+cell": {
     "cellMetadata": {
      "byteLimit": 2048000,
      "rowLimit": 10000
     },
     "inputWidgets": {},
     "nuid": "66a5d7b8-eed2-41d2-a12e-6d4c8b947ca4",
     "showTitle": false,
     "tableResultSettingsMap": {},
     "title": ""
    }
   },
   "source": [
    "### Getting existing table - car model dim "
   ]
  },
  {
   "cell_type": "code",
   "execution_count": 0,
   "metadata": {
    "application/vnd.databricks.v1+cell": {
     "cellMetadata": {
      "byteLimit": 2048000,
      "rowLimit": 10000
     },
     "inputWidgets": {},
     "nuid": "8e7ba65f-1809-4af2-97bb-96302a00b3b4",
     "showTitle": false,
     "tableResultSettingsMap": {},
     "title": ""
    }
   },
   "outputs": [],
   "source": [
    "max_surrogate_key = 1\n",
    "\n",
    "if spark.catalog.tableExists(gold_table_name):\n",
    "    gold_model_df = spark.table(gold_table_name)\n",
    "    max_surrogate_key = gold_model_df.select(max(\"dim_dealer_key\")).collect()[0][0]\n",
    "    print(max_surrogate_key)\n",
    "else:\n",
    "    gold_model_df = spark.createDataFrame([], gold_table_schema)"
   ]
  },
  {
   "cell_type": "markdown",
   "metadata": {
    "application/vnd.databricks.v1+cell": {
     "cellMetadata": {
      "byteLimit": 2048000,
      "rowLimit": 10000
     },
     "inputWidgets": {},
     "nuid": "5692819f-b162-4eb7-ad5d-fe04fd15b1c6",
     "showTitle": false,
     "tableResultSettingsMap": {},
     "title": ""
    }
   },
   "source": [
    "### Filter new data and updated data to prepare upserted data"
   ]
  },
  {
   "cell_type": "code",
   "execution_count": 0,
   "metadata": {
    "application/vnd.databricks.v1+cell": {
     "cellMetadata": {
      "byteLimit": 2048000,
      "rowLimit": 10000
     },
     "inputWidgets": {},
     "nuid": "424397d0-0b47-400b-bc65-c1c4e77fa0ab",
     "showTitle": false,
     "tableResultSettingsMap": {},
     "title": ""
    }
   },
   "outputs": [],
   "source": [
    "bussiness_key = \"DealerId\"\n",
    "new_dim_data_df = dim_src_df\\\n",
    "    .join(gold_model_df, bussiness_key, \"leftanti\")\\\n",
    "    .withColumn(\"dim_dealer_key\", lit(max_surrogate_key + monotonically_increasing_id()))\n",
    "updated_dim_data_df = dim_src_df.alias('src')\\\n",
    "    .join(gold_model_df.alias('sink'), bussiness_key, \"left\")\\\n",
    "    .filter(col(\"sink.dim_dealer_key\").isNotNull())\\\n",
    "    .select(\"src.*\", \"sink.dim_dealer_key\")\n",
    "\n",
    "src_staging_df = new_dim_data_df.union(updated_dim_data_df)\n",
    "src_staging_df.display()\n"
   ]
  },
  {
   "cell_type": "markdown",
   "metadata": {
    "application/vnd.databricks.v1+cell": {
     "cellMetadata": {
      "byteLimit": 2048000,
      "rowLimit": 10000
     },
     "inputWidgets": {},
     "nuid": "54d66992-8a80-42b8-9486-5295dcd6819d",
     "showTitle": false,
     "tableResultSettingsMap": {},
     "title": ""
    }
   },
   "source": [
    "## Implement SCD-1 by Upserting Changes to Delta lake, "
   ]
  },
  {
   "cell_type": "code",
   "execution_count": 0,
   "metadata": {
    "application/vnd.databricks.v1+cell": {
     "cellMetadata": {
      "byteLimit": 2048000,
      "rowLimit": 10000
     },
     "inputWidgets": {},
     "nuid": "c062fff1-3fba-4028-9fed-b75420d4c7da",
     "showTitle": false,
     "tableResultSettingsMap": {},
     "title": ""
    }
   },
   "outputs": [],
   "source": [
    "adls_gold_path = \"abfss://gold@carsalesdatalake04ajaz.dfs.core.windows.net/dealer_dimension\"\n",
    "if is_incremental and spark.catalog.tableExists(gold_table_name):\n",
    "    sink_df = DeltaTable.table(gold_table_name)\n",
    "    sink_df\\\n",
    "        .merge(src_staging_df, sink_df['dim_dealer_key'] == src_staging_df['dim_dealer_key'])\\\n",
    "        .whenMatchedUpdateAll()\\\n",
    "        .whenNotMatchedInsertAll()\\\n",
    "        .execute()\n",
    "else:\n",
    "    src_staging_df.write.format('delta')\\\n",
    "        .mode('overwrite')\\\n",
    "        .option(\"path\", adls_gold_path)\\\n",
    "        .saveAsTable(gold_table_name)"
   ]
  },
  {
   "cell_type": "markdown",
   "metadata": {
    "application/vnd.databricks.v1+cell": {
     "cellMetadata": {
      "byteLimit": 2048000,
      "rowLimit": 10000
     },
     "inputWidgets": {},
     "nuid": "f21fcd91-59ad-4be6-8192-b6c88c2abdf4",
     "showTitle": false,
     "tableResultSettingsMap": {},
     "title": ""
    }
   },
   "source": [
    "## Testing"
   ]
  },
  {
   "cell_type": "code",
   "execution_count": 0,
   "metadata": {
    "application/vnd.databricks.v1+cell": {
     "cellMetadata": {
      "byteLimit": 2048000,
      "rowLimit": 10000
     },
     "inputWidgets": {},
     "nuid": "d1036fef-3007-4c0a-9d96-e4f68fe154a9",
     "showTitle": false,
     "tableResultSettingsMap": {},
     "title": ""
    }
   },
   "outputs": [],
   "source": [
    "spark.sql(f\"select * from {gold_table_name} limit 10\").head(5)"
   ]
  }
 ],
 "metadata": {
  "application/vnd.databricks.v1+notebook": {
   "computePreferences": null,
   "dashboards": [],
   "environmentMetadata": {
    "base_environment": "",
    "environment_version": "1"
   },
   "language": "python",
   "notebookMetadata": {
    "pythonIndentUnit": 4
   },
   "notebookName": "Gold_dim_dealer",
   "widgets": {}
  },
  "language_info": {
   "name": "python"
  }
 },
 "nbformat": 4,
 "nbformat_minor": 0
}

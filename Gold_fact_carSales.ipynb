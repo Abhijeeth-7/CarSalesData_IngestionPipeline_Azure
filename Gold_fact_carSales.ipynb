{
 "cells": [
  {
   "cell_type": "code",
   "execution_count": 0,
   "metadata": {
    "application/vnd.databricks.v1+cell": {
     "cellMetadata": {
      "byteLimit": 2048000,
      "rowLimit": 10000
     },
     "inputWidgets": {},
     "nuid": "3ea3c21e-27b2-462a-bf81-e9150816dc80",
     "showTitle": false,
     "tableResultSettingsMap": {},
     "title": ""
    }
   },
   "outputs": [],
   "source": [
    "from pyspark.sql.functions import *\n",
    "from pyspark.sql.types import *\n",
    "from math import \n",
    " "
   ]
  },
  {
   "cell_type": "code",
   "execution_count": 0,
   "metadata": {
    "application/vnd.databricks.v1+cell": {
     "cellMetadata": {
      "byteLimit": 2048000,
      "rowLimit": 10000
     },
     "inputWidgets": {},
     "nuid": "f56ee036-0b87-497c-80e5-9ea3b6b49289",
     "showTitle": false,
     "tableResultSettingsMap": {},
     "title": ""
    }
   },
   "outputs": [],
   "source": [
    "def get_delta_table_data(path):\n",
    "    return spark.read.format(\"delta\").load(path)\n"
   ]
  },
  {
   "cell_type": "markdown",
   "metadata": {
    "application/vnd.databricks.v1+cell": {
     "cellMetadata": {},
     "inputWidgets": {},
     "nuid": "fe505fec-46b1-4eaf-9c3e-eddfb3246905",
     "showTitle": false,
     "tableResultSettingsMap": {},
     "title": ""
    }
   },
   "source": [
    "## Load Dimension tables"
   ]
  },
  {
   "cell_type": "code",
   "execution_count": 0,
   "metadata": {
    "application/vnd.databricks.v1+cell": {
     "cellMetadata": {
      "byteLimit": 2048000,
      "rowLimit": 10000
     },
     "inputWidgets": {},
     "nuid": "f0040366-3584-4480-a629-f76ea2d9459c",
     "showTitle": false,
     "tableResultSettingsMap": {},
     "title": ""
    }
   },
   "outputs": [],
   "source": [
    "silver_conatiner_path = \"abfss://silver@carsalesdatalake04ajaz.dfs.core.windows.net\" \n",
    "gold_container_path = \"abfss://gold@carsalesdatalake04ajaz.dfs.core.windows.net\" \n",
    "\n",
    "\n",
    "dim_branch = get_delta_table_data(gold_container_path+'/branch_dimension')\n",
    "dim_date = get_delta_table_data(gold_container_path+'/date_dimension')\n",
    "dim_model = get_delta_table_data(gold_container_path+'/model_dimension')\n",
    "dim_dealer = get_delta_table_data(gold_container_path+'/dealer_dimension')\n"
   ]
  },
  {
   "cell_type": "markdown",
   "metadata": {
    "application/vnd.databricks.v1+cell": {
     "cellMetadata": {},
     "inputWidgets": {},
     "nuid": "03f00387-cd5c-49ac-a63c-a0a2bb61beae",
     "showTitle": false,
     "tableResultSettingsMap": {},
     "title": ""
    }
   },
   "source": [
    "## Get incremental data from silver table"
   ]
  },
  {
   "cell_type": "code",
   "execution_count": 0,
   "metadata": {
    "application/vnd.databricks.v1+cell": {
     "cellMetadata": {
      "byteLimit": 2048000,
      "rowLimit": 10000
     },
     "inputWidgets": {},
     "nuid": "66848f2d-aeb8-4d84-bbd8-fa8ab30001e8",
     "showTitle": false,
     "tableResultSettingsMap": {},
     "title": ""
    }
   },
   "outputs": [],
   "source": [
    "gold_table_name = \"carsales_catalog.gold.fact_car_sales\"\n",
    "fact_car_sales_schema = StructType([\n",
    "    StructField(\"dim_model_key\", LongType(), False),\n",
    "    StructField(\"dim_branch_key\", LongType(), False),\n",
    "    StructField(\"dim_date_key\", LongType(), False),\n",
    "    StructField(\"dim_dealer_key\", LongType(), False),\n",
    "    StructField(\"Revenue\", LongType(), False),\n",
    "    StructField(\"UnitsSold\", LongType(), False),\n",
    "    StructField(\"RevenuePerUnit\", DoubleType(), True),\n",
    "])\n",
    "\n",
    "is_incremental = dbutils.widgets.get(\"is_incremental\").lower() == \"true\"\n",
    "filter_condition = True\n",
    "if is_incremental and spark.catalog.tableExists(gold_table_name):\n",
    "    last_load_on_gold = spark.sql(f\"DESCRIBE HISTORY {gold_table_name}\")\\\n",
    "                                .select(max(\"timestamp\")).collect()[0][0]\n",
    "    filter_condition = col(\"silver_load_timestamp\") > last_load_on_gold\n",
    "    \n",
    "silver_fact_df = spark.read.format(\"delta\")\\\n",
    "                        .load(silver_conatiner_path+\"/transformed_data\")\\\n",
    "                        .filter(filter_condition)\n"
   ]
  },
  {
   "cell_type": "markdown",
   "metadata": {
    "application/vnd.databricks.v1+cell": {
     "cellMetadata": {},
     "inputWidgets": {},
     "nuid": "ce4a73b8-7980-4aea-8f01-826d82db4e84",
     "showTitle": false,
     "tableResultSettingsMap": {},
     "title": ""
    }
   },
   "source": [
    "## Building fact table"
   ]
  },
  {
   "cell_type": "code",
   "execution_count": 0,
   "metadata": {
    "application/vnd.databricks.v1+cell": {
     "cellMetadata": {},
     "inputWidgets": {},
     "nuid": "e10e9bac-c379-4317-b7cd-eb3b004ecd51",
     "showTitle": false,
     "tableResultSettingsMap": {},
     "title": ""
    }
   },
   "outputs": [],
   "source": [
    "src_fact_df = silver_fact_df\\\n",
    "                .join(dim_model, \"ModelId\", \"left\")\\\n",
    "                .join(dim_branch, \"BranchId\", \"left\")\\\n",
    "                .join(dim_date, \"DateId\", \"left\")\\\n",
    "                .join(dim_dealer, \"DealerId\", \"left\")\\\n",
    "                .select(\n",
    "                    dim_model[\"dim_model_key\"], \n",
    "                    dim_branch[\"dim_branch_key\"], \n",
    "                    dim_date[\"dim_date_key\"], \n",
    "                    dim_dealer[\"dim_dealer_key\"], \n",
    "                    silver_fact_df[\"Revenue\"],\n",
    "                    silver_fact_df[\"UnitsSold\"],\n",
    "                    )\\\n",
    "                .withColumn(\"revenuePerUnit\", round(silver_fact_df[\"Revenue\"]/silver_fact_df[\"UnitsSold\"], 2))"
   ]
  },
  {
   "cell_type": "code",
   "execution_count": 0,
   "metadata": {
    "application/vnd.databricks.v1+cell": {
     "cellMetadata": {
      "byteLimit": 2048000,
      "rowLimit": 10000
     },
     "inputWidgets": {},
     "nuid": "a924c31d-8642-4452-ba31-e27c72a0acd6",
     "showTitle": false,
     "tableResultSettingsMap": {},
     "title": ""
    }
   },
   "outputs": [],
   "source": [
    "sink_fact_df = spark.createDataFrame([], fact_car_sales_schema)\n",
    "if spark.catalog.tableExists('carsales_catalog.gold.fact_car_sales'):\n",
    "    sink_fact_df = spark.table('carsales_catalog.gold.fact_car_sales')"
   ]
  },
  {
   "cell_type": "code",
   "execution_count": 0,
   "metadata": {
    "application/vnd.databricks.v1+cell": {
     "cellMetadata": {
      "byteLimit": 2048000,
      "rowLimit": 10000
     },
     "inputWidgets": {},
     "nuid": "c4888911-b80d-4b5a-a2ca-eec49ff92485",
     "showTitle": false,
     "tableResultSettingsMap": {},
     "title": ""
    }
   },
   "outputs": [],
   "source": [
    "if is_incremental and spark.catalog.tableExists('carsales_catalog.gold.fact_car_sales'):\n",
    "    src_fact_df.write\\\n",
    "        .format(\"delta\")\\\n",
    "        .mode(\"append\")\\\n",
    "        .option(\"path\", gold_container_path+\"/car_sales_fact\")\\\n",
    "        .saveAsTable(\"carsales_catalog.gold.fact_car_sales\")\n",
    "else: \n",
    "    src_fact_df.write\\\n",
    "        .format(\"delta\")\\\n",
    "        .mode(\"overwrite\")\\\n",
    "        .option(\"path\", gold_container_path+\"/car_sales_fact\")\\\n",
    "        .saveAsTable(\"carsales_catalog.gold.fact_car_sales\")"
   ]
  }
 ],
 "metadata": {
  "application/vnd.databricks.v1+notebook": {
   "computePreferences": null,
   "dashboards": [],
   "environmentMetadata": {
    "base_environment": "",
    "environment_version": "1"
   },
   "language": "python",
   "notebookMetadata": {
    "pythonIndentUnit": 4
   },
   "notebookName": "Gold_fact_carSales",
   "widgets": {}
  },
  "language_info": {
   "name": "python"
  }
 },
 "nbformat": 4,
 "nbformat_minor": 0
}
